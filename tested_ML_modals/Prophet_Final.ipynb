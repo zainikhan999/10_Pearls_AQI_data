{
  "nbformat": 4,
  "nbformat_minor": 0,
  "metadata": {
    "colab": {
      "provenance": []
    },
    "kernelspec": {
      "name": "python3",
      "display_name": "Python 3"
    },
    "language_info": {
      "name": "python"
    }
  },
  "cells": [
    {
      "cell_type": "code",
      "source": [
        "!pip install hopsworks[python] prophet requests matplotlib pandas numpy scikit-learn\n"
      ],
      "metadata": {
        "id": "_ngW9cfI6zUg"
      },
      "execution_count": null,
      "outputs": []
    },
    {
      "cell_type": "code",
      "execution_count": null,
      "metadata": {
        "colab": {
          "base_uri": "https://localhost:8080/"
        },
        "id": "26ZS7qu66eeZ",
        "outputId": "19133a93-af7d-4283-bb2c-0d9f673bf3a5"
      },
      "outputs": [
        {
          "name": "stdout",
          "output_type": "stream",
          "text": [
            "[1/6] Loading Feature Group from Hopsworks...\n",
            "Copy your Api Key (first register/login): https://c.app.hopsworks.ai/account/api/generated\n",
            "\n",
            "Paste it here: ··········\n"
          ]
        },
        {
          "output_type": "stream",
          "name": "stderr",
          "text": [
            "\n",
            "\n",
            "UserWarning: The installed hopsworks client version 4.3.1 may not be compatible with the connected Hopsworks backend version 4.2.2. \n",
            "To ensure compatibility please install the latest bug fix release matching the minor version of your backend (4.2) by running 'pip install hopsworks==4.2.*'\n"
          ]
        },
        {
          "output_type": "stream",
          "name": "stdout",
          "text": [
            "\n",
            "Logged in to project, explore it here https://c.app.hopsworks.ai:443/p/1239199\n",
            "Finished: Reading data from Hopsworks, using Hopsworks Feature Query Service (1.07s) \n",
            "[2/6] Training Prophet model...\n"
          ]
        },
        {
          "output_type": "stream",
          "name": "stderr",
          "text": [
            "DEBUG:cmdstanpy:input tempfile: /tmp/tmpa57sxwey/oxjphm_2.json\n",
            "DEBUG:cmdstanpy:input tempfile: /tmp/tmpa57sxwey/qg43t6qa.json\n",
            "DEBUG:cmdstanpy:idx 0\n",
            "DEBUG:cmdstanpy:running CmdStan, num_threads: None\n",
            "DEBUG:cmdstanpy:CmdStan args: ['/usr/local/lib/python3.11/dist-packages/prophet/stan_model/prophet_model.bin', 'random', 'seed=99102', 'data', 'file=/tmp/tmpa57sxwey/oxjphm_2.json', 'init=/tmp/tmpa57sxwey/qg43t6qa.json', 'output', 'file=/tmp/tmpa57sxwey/prophet_model351scvs4/prophet_model-20250815224909.csv', 'method=optimize', 'algorithm=lbfgs', 'iter=10000']\n",
            "22:49:09 - cmdstanpy - INFO - Chain [1] start processing\n",
            "INFO:cmdstanpy:Chain [1] start processing\n",
            "22:49:57 - cmdstanpy - INFO - Chain [1] done processing\n",
            "INFO:cmdstanpy:Chain [1] done processing\n",
            "FutureWarning: 'H' is deprecated and will be removed in a future version, please use 'h' instead.\n"
          ]
        },
        {
          "output_type": "stream",
          "name": "stdout",
          "text": [
            "[3/6] Forecasting next 72h...\n",
            "[4/6] Saving forecast plot...\n",
            "[5/6] Evaluating Prophet on last 20% history...\n",
            "MAE: 25.22, RMSE: 955.85, R²: 0.2132\n",
            "\n",
            "✅ Prophet pipeline done.\n"
          ]
        }
      ],
      "source": [
        "\n",
        "import os\n",
        "import pandas as pd\n",
        "import numpy as np\n",
        "import matplotlib.pyplot as plt\n",
        "from prophet import Prophet\n",
        "from sklearn.metrics import mean_absolute_error, mean_squared_error, r2_score\n",
        "import hopsworks\n",
        "\n",
        "FEATURE_GROUP_NAME = \"aqi_weather_features\"\n",
        "FEATURE_GROUP_VER  = 2\n",
        "LATITUDE  = 33.5973\n",
        "LONGITUDE = 73.0479\n",
        "HORIZON_H = 72\n",
        "TZ = \"Asia/Karachi\"\n",
        "ARTIFACT_DIR = \"prophet_aqi_artifacts\"\n",
        "PLOTS_DIR    = os.path.join(ARTIFACT_DIR, \"plots\")\n",
        "os.makedirs(PLOTS_DIR, exist_ok=True)\n",
        "\n",
        "# ------------------------\n",
        "# 1) Load data\n",
        "# ------------------------\n",
        "print(\"[1/6] Loading Feature Group from Hopsworks...\")\n",
        "project = hopsworks.login()\n",
        "fs = project.get_feature_store()\n",
        "fg = fs.get_feature_group(name=FEATURE_GROUP_NAME, version=FEATURE_GROUP_VER)\n",
        "df_raw = fg.read()\n",
        "\n",
        "df_raw = df_raw.sort_values(\"time\", ascending=True).reset_index(drop=True)\n",
        "df_raw[\"time\"] = pd.to_datetime(df_raw[\"time\"])\n",
        "df_raw[\"time\"] = df_raw[\"time\"].dt.tz_localize(None)  # Prophet requires naive datetime\n",
        "\n",
        "# Prepare Prophet format\n",
        "df_prophet = df_raw[[\"time\", \"us_aqi\"]].rename(columns={\"time\": \"ds\", \"us_aqi\": \"y\"})\n",
        "\n",
        "# ------------------------\n",
        "# 2) Train Prophet\n",
        "# ------------------------\n",
        "print(\"[2/6] Training Prophet model...\")\n",
        "model = Prophet(daily_seasonality=True, yearly_seasonality=True)\n",
        "model.fit(df_prophet)\n",
        "\n",
        "# ------------------------\n",
        "# 3) Forecast\n",
        "# ------------------------\n",
        "print(\"[3/6] Forecasting next 72h...\")\n",
        "future = model.make_future_dataframe(periods=HORIZON_H, freq=\"H\")\n",
        "forecast = model.predict(future)\n",
        "\n",
        "# Merge with actual AQI (if available)\n",
        "forecast_df = forecast[[\"ds\", \"yhat\"]].tail(HORIZON_H).copy()\n",
        "forecast_df[\"ds\"] = forecast_df[\"ds\"].dt.tz_localize(\"UTC\").dt.tz_convert(TZ)\n",
        "forecast_df.rename(columns={\"ds\": \"datetime\", \"yhat\": \"predicted_us_aqi\"}, inplace=True)\n",
        "\n",
        "forecast_path = os.path.join(ARTIFACT_DIR, \"prophet_72h_forecast.csv\")\n",
        "forecast_df.to_csv(forecast_path, index=False)\n",
        "\n",
        "# ------------------------\n",
        "# 4) Plot\n",
        "# ------------------------\n",
        "print(\"[4/6] Saving forecast plot...\")\n",
        "fig1 = model.plot(forecast)\n",
        "fig1.savefig(os.path.join(PLOTS_DIR, \"prophet_forecast.png\"), dpi=140)\n",
        "plt.close(fig1)\n",
        "\n",
        "# ------------------------\n",
        "# 5) Evaluate (last 20% of history)\n",
        "# ------------------------\n",
        "print(\"[5/6] Evaluating Prophet on last 20% history...\")\n",
        "split_idx = int(len(df_prophet) * 0.8)\n",
        "test_df = df_prophet.iloc[split_idx:]\n",
        "pred_test = model.predict(test_df.rename(columns={\"time\": \"ds\"}))\n",
        "y_true = test_df[\"y\"].values\n",
        "y_pred = pred_test[\"yhat\"].values\n",
        "mae = mean_absolute_error(y_true, y_pred)\n",
        "rmse = mean_squared_error(y_true, y_pred)\n",
        "r2 = r2_score(y_true, y_pred)\n",
        "print(f\"MAE: {mae:.2f}, RMSE: {rmse:.2f}, R²: {r2:.4f}\")\n",
        "\n",
        "print(\"\\n✅ Prophet pipeline done.\")\n"
      ]
    },
    {
      "cell_type": "code",
      "source": [
        "# prophet_forecast.py\n",
        "import requests\n",
        "import pandas as pd\n",
        "import joblib\n",
        "from prophet import Prophet\n",
        "from datetime import datetime, timedelta, timezone\n",
        "\n",
        "# # === Load trained Prophet model ===\n",
        "# MODEL_PATH = \"prophet_model.pkl\"\n",
        "# model = joblib.load(MODEL_PATH)\n",
        "\n",
        "# === Config ===\n",
        "lat, lon = 33.6844, 73.0479  # Example: Islamabad\n",
        "forecast_hours = 72\n",
        "\n",
        "# === Step 1: Fetch AQI + Weather Forecast from Open-Meteo ===\n",
        "aqi_url = (\n",
        "    \"https://air-quality-api.open-meteo.com/v1/air-quality\"\n",
        "    f\"?latitude={lat}&longitude={lon}&hourly=pm2_5\"\n",
        ")\n",
        "\n",
        "\n",
        "aqi_data = requests.get(aqi_url).json()\n",
        "\n",
        "# AQI DataFrame\n",
        "df_aqi = pd.DataFrame({\n",
        "    \"datetime\": aqi_data[\"hourly\"][\"time\"],\n",
        "    \"aqi\": aqi_data[\"hourly\"][\"pm2_5\"]\n",
        "})\n",
        "\n",
        "\n",
        "\n",
        "# Merge on datetime\n",
        "# df_forecast = pd.merge(df_aqi, df_weather, on=\"datetime\")\n",
        "\n",
        "# Convert datetime to pandas datetime\n",
        "df_aqi[\"datetime\"] = pd.to_datetime(df_aqi[\"datetime\"])\n",
        "\n",
        "# === Step 2: Prepare for Prophet ===\n",
        "# Prophet expects columns: ds (datetime), y (target)\n",
        "# But for forecast, we only need ds; model handles the rest.\n",
        "future_df = df_aqi.rename(columns={\"datetime\": \"ds\"})\n",
        "\n",
        "# === Step 3: Predict ===\n",
        "forecast = model.predict(future_df[[\"ds\"]])\n",
        "\n",
        "# === Step 4: Merge predictions with input features ===\n",
        "result = pd.concat([future_df, forecast[[\"yhat\", \"yhat_lower\", \"yhat_upper\"]]], axis=1)\n",
        "\n",
        "print(\"\\n=== Prophet Forecast ===\")\n",
        "print(result.head(forecast_hours))\n"
      ],
      "metadata": {
        "colab": {
          "base_uri": "https://localhost:8080/"
        },
        "id": "x55pDVdz7Ku-",
        "outputId": "186fdbfa-2fbf-42a6-e6f8-7a7ec1c5cff1"
      },
      "execution_count": null,
      "outputs": [
        {
          "output_type": "stream",
          "name": "stdout",
          "text": [
            "\n",
            "=== Prophet Forecast ===\n",
            "                    ds   aqi  temperature  humidity  wind_speed         yhat  \\\n",
            "0  2025-08-15 00:00:00   6.8         24.9        90         9.9 -3344.088785   \n",
            "1  2025-08-15 01:00:00  10.8         24.7        90         9.8 -3398.458789   \n",
            "2  2025-08-15 02:00:00  15.8         24.7        91         9.5 -3436.712749   \n",
            "3  2025-08-15 03:00:00  16.5         24.7        92        10.1 -3446.907888   \n",
            "4  2025-08-15 04:00:00  14.2         24.9        92        10.5 -3415.854362   \n",
            "..                 ...   ...          ...       ...         ...          ...   \n",
            "67 2025-08-17 19:00:00  50.6         26.0        92         4.2 -2357.327089   \n",
            "68 2025-08-17 20:00:00  42.1         25.8        93         4.2 -2246.291826   \n",
            "69 2025-08-17 21:00:00  39.1         25.7        94         4.6 -2127.770840   \n",
            "70 2025-08-17 22:00:00  36.6         25.6        94         3.6 -2007.331069   \n",
            "71 2025-08-17 23:00:00  24.3         25.4        94         3.5 -1887.078195   \n",
            "\n",
            "     yhat_lower   yhat_upper  \n",
            "0  -3378.341285 -3309.054854  \n",
            "1  -3430.935798 -3364.131089  \n",
            "2  -3468.776189 -3404.472896  \n",
            "3  -3478.595703 -3412.782351  \n",
            "4  -3449.752123 -3382.295158  \n",
            "..          ...          ...  \n",
            "67 -2388.512723 -2325.538003  \n",
            "68 -2280.076311 -2212.207156  \n",
            "69 -2159.767653 -2095.651728  \n",
            "70 -2036.805993 -1973.572849  \n",
            "71 -1922.526424 -1854.813572  \n",
            "\n",
            "[72 rows x 8 columns]\n"
          ]
        }
      ]
    }
  ]
}